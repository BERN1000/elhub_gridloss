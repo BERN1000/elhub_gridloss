{
 "cells": [
  {
   "cell_type": "markdown",
   "id": "969460eb",
   "metadata": {},
   "source": [
    "# Elhub API data - Gridloss - Summerproject 2025\n",
    "\n",
    "## Models\n",
    "\n",
    "Bjørn Eirik Rognskog Nordbak"
   ]
  },
  {
   "cell_type": "markdown",
   "id": "5e42e64f",
   "metadata": {},
   "source": [
    "### Importing data from Elhub API\n",
    "https://api.elhub.no/energy-data-api#/grid-areas"
   ]
  },
  {
   "cell_type": "code",
   "execution_count": null,
   "id": "0fc04e30",
   "metadata": {},
   "outputs": [],
   "source": [
    "import requests\n",
    "import pandas as pd\n",
    "from datetime import datetime, timedelta\n",
    "from zoneinfo import ZoneInfo\n",
    "\n",
    "oslo = ZoneInfo(\"Europe/Oslo\")\n",
    "\n",
    "def fetch_window(start_dt, end_dt):\n",
    "    params = {\n",
    "        \"dataset\":   \"LOSS_PER_MGA_HOUR\",\n",
    "        \"startDate\": start_dt.isoformat(),\n",
    "        \"endDate\":   end_dt.isoformat(),\n",
    "    }\n",
    "    url = \"https://api.elhub.no/energy-data/v0/grid-areas\"\n",
    "    resp = requests.get(url, params=params)\n",
    "    obj = resp.json()\n",
    "    \n",
    "    # --- safeguard: if there's no \"data\", bail with empty DF ----\n",
    "    raw = obj.get(\"data\")\n",
    "    if raw is None:\n",
    "        print(f\"  → no 'data' for {start_dt.date()} → {end_dt.date()}, skipping\")\n",
    "        return pd.DataFrame()\n",
    "    \n",
    "    # otherwise flatten\n",
    "    df = pd.json_normalize(\n",
    "        raw,\n",
    "        record_path=[\"attributes\", \"lossPerMgaHour\"],\n",
    "        meta=[\n",
    "            [\"attributes\", \"eic\"],\n",
    "            [\"attributes\", \"name\"],\n",
    "            [\"attributes\", \"status\"],\n",
    "        ],\n",
    "        errors=\"ignore\"\n",
    "    ).rename(columns={\n",
    "        \"attributes.eic\":    \"eic\",\n",
    "        \"attributes.name\":   \"name\",\n",
    "        \"attributes.status\": \"status\",\n",
    "    })\n",
    "    return df\n",
    "\n",
    "# loop as before\n",
    "span_start = datetime(2023,1,1,0,0, tzinfo=oslo)\n",
    "span_end   = datetime(2025,6,1,0,0, tzinfo=oslo)\n",
    "window = timedelta(days=7)\n",
    "\n",
    "all_chunks = []\n",
    "cur = span_start\n",
    "while cur < span_end:\n",
    "    nxt = min(cur + window, span_end)\n",
    "    print(f\"Fetching {cur.date()} → {nxt.date()}\")\n",
    "    dfc = fetch_window(cur, nxt)\n",
    "    all_chunks.append(dfc)\n",
    "    cur = nxt\n",
    "\n",
    "big_df = pd.concat(all_chunks, ignore_index=True)"
   ]
  },
  {
   "cell_type": "markdown",
   "id": "21d97593",
   "metadata": {},
   "source": [
    "### Save the data to a CSV file (optional)"
   ]
  },
  {
   "cell_type": "code",
   "execution_count": null,
   "id": "342cb492",
   "metadata": {},
   "outputs": [],
   "source": [
    "import pandas as pd\n",
    "\n",
    "# 1. Save your DataFrame to CSV\n",
    "# Replace big_df with your DataFrame variable\n",
    "big_df.to_csv('big_df.csv', index=False)"
   ]
  },
  {
   "cell_type": "markdown",
   "id": "fb4192b2",
   "metadata": {},
   "source": [
    "### Read the CSV file (if needed)"
   ]
  },
  {
   "cell_type": "code",
   "execution_count": null,
   "id": "9513279c",
   "metadata": {},
   "outputs": [],
   "source": [
    "import pandas as pd\n",
    "\n",
    "# 2. Load the DataFrame back from CSV\n",
    "# This will recreate the DataFrame exactly as it was (aside from types inference)\n",
    "big_df = pd.read_csv('big_df.csv')\n",
    "\n",
    "big_df"
   ]
  },
  {
   "cell_type": "code",
   "execution_count": null,
   "id": "eaa4b9cb",
   "metadata": {},
   "outputs": [],
   "source": []
  },
  {
   "cell_type": "code",
   "execution_count": null,
   "id": "a91ab37d",
   "metadata": {},
   "outputs": [],
   "source": []
  }
 ],
 "metadata": {
  "kernelspec": {
   "display_name": "gridloss_venv",
   "language": "python",
   "name": "python3"
  },
  "language_info": {
   "codemirror_mode": {
    "name": "ipython",
    "version": 3
   },
   "file_extension": ".py",
   "mimetype": "text/x-python",
   "name": "python",
   "nbconvert_exporter": "python",
   "pygments_lexer": "ipython3",
   "version": "3.13.5"
  }
 },
 "nbformat": 4,
 "nbformat_minor": 5
}
