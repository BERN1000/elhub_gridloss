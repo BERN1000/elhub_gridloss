{
 "cells": [
  {
   "cell_type": "markdown",
   "id": "d046b898",
   "metadata": {},
   "source": [
    "# Elhub API data - Gridloss - Summerproject 2025\n",
    "\n",
    "## Missing values\n",
    "\n",
    "Bjørn Eirik Rognskog Nordbak"
   ]
  }
 ],
 "metadata": {
  "language_info": {
   "name": "python"
  }
 },
 "nbformat": 4,
 "nbformat_minor": 5
}
